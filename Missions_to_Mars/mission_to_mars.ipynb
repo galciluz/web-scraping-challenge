{
 "cells": [
  {
   "cell_type": "code",
   "execution_count": 1,
   "metadata": {},
   "outputs": [],
   "source": [
    "# Dependencies\n",
    "from bs4 import BeautifulSoup as bs\n",
    "import pandas as pd\n",
    "from splinter import Browser\n",
    "from webdriver_manager.chrome import ChromeDriverManager"
   ]
  },
  {
   "cell_type": "code",
   "execution_count": 2,
   "metadata": {},
   "outputs": [
    {
     "name": "stderr",
     "output_type": "stream",
     "text": [
      "[WDM] - ====== WebDriver manager ======\n",
      "[WDM] - Current google-chrome version is 89.0.4389\n",
      "[WDM] - Get LATEST driver version for 89.0.4389\n"
     ]
    },
    {
     "name": "stdout",
     "output_type": "stream",
     "text": [
      "\n",
      "\n"
     ]
    },
    {
     "name": "stderr",
     "output_type": "stream",
     "text": [
      "[WDM] - Driver [C:\\Users\\galci\\.wdm\\drivers\\chromedriver\\win32\\89.0.4389.23\\chromedriver.exe] found in cache\n"
     ]
    }
   ],
   "source": [
    "executable_path = {'executable_path': ChromeDriverManager().install()}\n",
    "browser = Browser('chrome', **executable_path, headless=False)"
   ]
  },
  {
   "cell_type": "code",
   "execution_count": 3,
   "metadata": {},
   "outputs": [],
   "source": [
    "# URL of page to be scraped nasa mars news\n",
    "url = 'https://mars.nasa.gov/news/?page=0&per_page=40&order=publish_date+desc%2Ccreated_at+desc&search=&category=19%2C165%2C184%2C204&blank_scope=Latest'\n",
    "browser.visit(url)\n",
    "html = browser.html\n",
    "soup = bs(html, 'html.parser')"
   ]
  },
  {
   "cell_type": "code",
   "execution_count": 4,
   "metadata": {},
   "outputs": [],
   "source": [
    "# get news title, news link, news text, news date\n",
    "results = soup.find_all('div', class_='list_text')\n",
    "news_title = results[0].find('div',class_='content_title').text\n",
    "news_link = results[0].find('a')['href']\n",
    "news_p=results[0].find('div',class_='article_teaser_body').text\n",
    "date=results[0].find('div',class_='list_date').text"
   ]
  },
  {
   "cell_type": "code",
   "execution_count": 5,
   "metadata": {},
   "outputs": [],
   "source": [
    "# URL of page to be scraped JPL Mars Space\n",
    "url = 'https://data-class-jpl-space.s3.amazonaws.com/JPL_Space/index.html'\n",
    "browser.visit(url)\n",
    "html = browser.html\n",
    "soup = bs(html, 'html.parser')"
   ]
  },
  {
   "cell_type": "code",
   "execution_count": 6,
   "metadata": {},
   "outputs": [],
   "source": [
    "# get image url from JPL Mars Space\n",
    "results = soup.find_all('div', class_='header')\n",
    "# scrape the url image full size\n",
    "imageurl = results[0].find('img',class_='headerimage fade-in').get('src')\n",
    "featured_image_url = 'https://data-class-jpl-space.s3.amazonaws.com/JPL_Space/' + imageurl \n"
   ]
  },
  {
   "cell_type": "code",
   "execution_count": 7,
   "metadata": {},
   "outputs": [],
   "source": [
    "# URL of page to be scraped Mars Facts\n",
    "url = 'https://space-facts.com/mars/'\n",
    "tables = pd.read_html(url)\n",
    "mars_df=tables[0]\n",
    "mars_df.columns = ['Description ', 'Mars']\n",
    "mars_df.set_index('Description ', inplace=True)\n",
    "# create a html table of mars facts\n",
    "mars_df.to_html('mars_table.html')"
   ]
  },
  {
   "cell_type": "code",
   "execution_count": 9,
   "metadata": {},
   "outputs": [],
   "source": [
    "#fuction to get the full size image url from Mars Hemispheres\n",
    "def mars_hemispheres(url):\n",
    "    browser.visit(url)\n",
    "    # Create BeautifulSoup object; parse with 'html.parser'\n",
    "    html = browser.html\n",
    "    soup = bs(html, 'html.parser')# Retrieve the parent divs for all articles\n",
    "    results = soup.find_all('div', class_='downloads')\n",
    "    # scrape the url image full size\n",
    "    url = results[0].find('a')['href']\n",
    "    results = soup.find_all('div', class_='content')\n",
    "    title = results[0].find('h2', class_='title').text\n",
    "    return (url, title)"
   ]
  },
  {
   "cell_type": "code",
   "execution_count": 10,
   "metadata": {},
   "outputs": [],
   "source": [
    "#cerberus_enhanced\n",
    "url='https://astrogeology.usgs.gov/search/map/Mars/Viking/cerberus_enhanced'\n",
    "url, title = mars_hemispheres(url)\n",
    "cerburl=url\n",
    "cerbtitle=title"
   ]
  },
  {
   "cell_type": "code",
   "execution_count": 11,
   "metadata": {},
   "outputs": [],
   "source": [
    "#schiaparelli_enhanced\n",
    "url='https://astrogeology.usgs.gov/search/map/Mars/Viking/schiaparelli_enhanced'\n",
    "url, title = mars_hemispheres(url)\n",
    "schiurl=url\n",
    "schititle=title"
   ]
  },
  {
   "cell_type": "code",
   "execution_count": 12,
   "metadata": {},
   "outputs": [],
   "source": [
    "#syrtis_major_enhanced\n",
    "url='https://astrogeology.usgs.gov/search/map/Mars/Viking/syrtis_major_enhanced'\n",
    "url, title = mars_hemispheres(url)\n",
    "syrturl=url\n",
    "syrttitle=title"
   ]
  },
  {
   "cell_type": "code",
   "execution_count": 13,
   "metadata": {},
   "outputs": [],
   "source": [
    "#valles_marineris_enhanced\n",
    "url='https://astrogeology.usgs.gov/search/map/Mars/Viking/valles_marineris_enhanced'\n",
    "url, title = mars_hemispheres(url)\n",
    "vallurl=url\n",
    "valltitle=title"
   ]
  },
  {
   "cell_type": "code",
   "execution_count": 14,
   "metadata": {},
   "outputs": [],
   "source": [
    "#create a dictionary with Mars Hemispheres images: title and image url full size\n",
    "hemisphere_image_urls = [\n",
    "    {\"title\": cerbtitle, \"img_url\": cerburl},\n",
    "    {\"title\": schititle, \"img_url\": schiurl},\n",
    "    {\"title\": syrttitle, \"img_url\": syrturl},\n",
    "    {\"title\": valltitle, \"img_url\": vallurl},\n",
    "]"
   ]
  },
  {
   "cell_type": "code",
   "execution_count": 15,
   "metadata": {},
   "outputs": [],
   "source": [
    "browser.quit()"
   ]
  }
 ],
 "metadata": {
  "kernelspec": {
   "display_name": "Python 3",
   "language": "python",
   "name": "python3"
  },
  "language_info": {
   "codemirror_mode": {
    "name": "ipython",
    "version": 3
   },
   "file_extension": ".py",
   "mimetype": "text/x-python",
   "name": "python",
   "nbconvert_exporter": "python",
   "pygments_lexer": "ipython3",
   "version": "3.6.10"
  }
 },
 "nbformat": 4,
 "nbformat_minor": 4
}
